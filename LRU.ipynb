{
 "cells": [
  {
   "cell_type": "code",
   "execution_count": 108,
   "id": "4240610c",
   "metadata": {},
   "outputs": [],
   "source": [
    "class LRUCache:\n",
    "    def __init__(self,capacity: int = 5):\n",
    "        self.capacity = capacity\n",
    "        self.diction = {}\n",
    "        self.size = 0\n",
    "        \n",
    "    def get(self,key:str):\n",
    "        value = self.diction.get(key)\n",
    "        if value is not None:\n",
    "            del self.diction[key]\n",
    "            self.diction.update({key:value})\n",
    "            return value\n",
    "        else:\n",
    "            return ''\n",
    "    \n",
    "    def set_value(self,key:str,value:str):\n",
    "        if self.size < self.capacity:\n",
    "            self.diction.update({key:value})\n",
    "            self.size +=1\n",
    "        else:\n",
    "            last_key = list(self.diction.keys())[0]\n",
    "            self.diction.pop(last_key)\n",
    "            self.diction.update({key:value})\n",
    "            \n",
    "    def rem(self,key:str):\n",
    "        if self.diction.get(key) is not None:\n",
    "            value = self.diction.pop(key)\n",
    "            self.size -=1  \n",
    "            return value\n",
    "        else:\n",
    "            return False\n",
    "    def print_dict(self):\n",
    "        print(self.diction)"
   ]
  },
  {
   "cell_type": "code",
   "execution_count": 109,
   "id": "ddf0cba3",
   "metadata": {},
   "outputs": [],
   "source": [
    "lru_example = LRUCache()"
   ]
  },
  {
   "cell_type": "code",
   "execution_count": 110,
   "id": "107cb3b9",
   "metadata": {},
   "outputs": [
    {
     "name": "stdout",
     "output_type": "stream",
     "text": [
      "{'Jojo': 'Jo', 'Velo': 'Belo', 'Arni': 'Nevskiy', 'Silvi': 'Stal', 'One': 'Punch'}\n",
      "{'Velo': 'Belo', 'Arni': 'Nevskiy', 'Silvi': 'Stal', 'One': 'Punch', 'SL': 'Bobo'}\n"
     ]
    }
   ],
   "source": [
    "lru_example.set_value('Jojo','Jo')\n",
    "lru_example.set_value('Velo','Belo')\n",
    "lru_example.set_value('Arni','Nevskiy')\n",
    "lru_example.set_value('Silvi','Stal')\n",
    "lru_example.set_value('One','Punch')\n",
    "\n",
    "lru_example.print_dict()\n",
    "lru_example.set_value('SL','Bobo')\n",
    "\n",
    "lru_example.print_dict()"
   ]
  },
  {
   "cell_type": "code",
   "execution_count": 111,
   "id": "779925a2",
   "metadata": {},
   "outputs": [
    {
     "name": "stdout",
     "output_type": "stream",
     "text": [
      "{'Arni': 'Nevskiy', 'Silvi': 'Stal', 'One': 'Punch', 'SL': 'Bobo', 'Velo': 'Belo'}\n"
     ]
    }
   ],
   "source": [
    "lru_example.get('Velo')\n",
    "\n",
    "lru_example.print_dict()"
   ]
  },
  {
   "cell_type": "code",
   "execution_count": 112,
   "id": "9331bf6d",
   "metadata": {},
   "outputs": [
    {
     "data": {
      "text/plain": [
       "'Bobo'"
      ]
     },
     "execution_count": 112,
     "metadata": {},
     "output_type": "execute_result"
    }
   ],
   "source": [
    "lru_example.rem('SL')"
   ]
  },
  {
   "cell_type": "code",
   "execution_count": 113,
   "id": "b7c4f119",
   "metadata": {},
   "outputs": [
    {
     "name": "stdout",
     "output_type": "stream",
     "text": [
      "{'Arni': 'Nevskiy', 'Silvi': 'Stal', 'One': 'Punch', 'Velo': 'Belo'}\n"
     ]
    }
   ],
   "source": [
    "lru_example.print_dict()"
   ]
  },
  {
   "cell_type": "code",
   "execution_count": 118,
   "id": "3830eccb",
   "metadata": {},
   "outputs": [
    {
     "name": "stdout",
     "output_type": "stream",
     "text": [
      "James\n",
      "\n"
     ]
    }
   ],
   "source": [
    "cache = LRUCache(100)\n",
    "cache.set_value('Jesse', 'Pinkman')\n",
    "cache.set_value('Walter', 'White')\n",
    "cache.set_value('Jesse', 'James')\n",
    "print(cache.get('Jesse')) # вернёт 'James'\n",
    "cache.rem('Walter')\n",
    "print(cache.get('Walter'))"
   ]
  },
  {
   "cell_type": "code",
   "execution_count": null,
   "id": "e8f9512e",
   "metadata": {},
   "outputs": [],
   "source": []
  }
 ],
 "metadata": {
  "kernelspec": {
   "display_name": "pienv",
   "language": "python",
   "name": "pienv"
  },
  "language_info": {
   "codemirror_mode": {
    "name": "ipython",
    "version": 3
   },
   "file_extension": ".py",
   "mimetype": "text/x-python",
   "name": "python",
   "nbconvert_exporter": "python",
   "pygments_lexer": "ipython3",
   "version": "3.10.11"
  }
 },
 "nbformat": 4,
 "nbformat_minor": 5
}
